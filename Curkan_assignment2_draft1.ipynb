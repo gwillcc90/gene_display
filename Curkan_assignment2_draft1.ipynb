{
 "cells": [
  {
   "cell_type": "code",
   "execution_count": 21,
   "id": "70526a62",
   "metadata": {},
   "outputs": [],
   "source": [
    "import re\n",
    "from icecream import ic"
   ]
  },
  {
   "cell_type": "code",
   "execution_count": 22,
   "id": "f6d2e2da",
   "metadata": {},
   "outputs": [],
   "source": [
    "''' Want 3 functions: read_seq, get_seq_stats, print_seq_stats'''"
   ]
  },
  {
   "cell_type": "code",
   "execution_count": 48,
   "id": "a89513d4",
   "metadata": {},
   "outputs": [
    {
     "name": "stdout",
     "output_type": "stream",
     "text": [
      "   gene1    |       80     |       75     |       5      |       2      |       1      |  \n",
      "   gene2    |       75     |       52     |       23     |       4      |       3      |  \n",
      "   gene3    |       51     |       34     |       17     |       2      |       1      |  \n",
      "   gene4    |       88     |       80     |       8      |       2      |       1      |  \n",
      "   gene5    |       88     |       80     |       8      |       3      |       2      |  \n",
      "   gene6    |       95     |       74     |       21     |       2      |       1      |  \n",
      "   gene7    |       99     |       80     |       19     |       6      |       5      |  \n",
      "   gene8    |       86     |       80     |       6      |       2      |       1      |  \n",
      "   gene9    |      121     |       49     |       72     |       2      |       1      |  \n",
      "   gene10   |       73     |       55     |       18     |       3      |       2      |  \n"
     ]
    }
   ],
   "source": [
    "ic.disable()\n",
    "'''Want to read sequences and display out of memory, but can keep stats in memory'''\n",
    "def read_sequences(filename = 'genes.fa'):\n",
    "    with open(filename, 'r') as file:\n",
    "        # Read until line isn't read\n",
    "        while (line := file.readline().strip()):\n",
    "            ic(line)\n",
    "            if line.startswith('>'): # Remake this condition part to a regex\n",
    "                title = line[1:]\n",
    "\n",
    "            else:\n",
    "                display_seq_stats(title, *get_sequence_stats(line))\n",
    "                \n",
    "read_sequences()"
   ]
  },
  {
   "cell_type": "code",
   "execution_count": 47,
   "id": "5d82c0d1",
   "metadata": {},
   "outputs": [],
   "source": [
    "def splitter(fn):\n",
    "    def decorator(seq):\n",
    "        if not isinstance(seq, str):\n",
    "            return fn(seq)\n",
    "        \n",
    "        else:\n",
    "            re_split = re.split(r'([a-z]+)', seq)\n",
    "            return fn(re_split)\n",
    "    \n",
    "    return decorator\n",
    "\n",
    "@splitter\n",
    "def get_sequence_stats(re_split):\n",
    "    ''' Below two comments are in case of removing decorator'''\n",
    "    # Split sequence into groups of uppercase/lowercase\n",
    "    #re_split = re.split(r'([a-z]+)', seq)\n",
    "\n",
    "    # Get statistics\n",
    "    exon_len = 0\n",
    "    num_exons = 0\n",
    "    intron_len = 0\n",
    "    num_introns = 0\n",
    "    for i in range(len(re_split)): \n",
    "        if (i+1) % 2 != 0: # Could check by sequence uppercase/lowercase preferably\n",
    "            exon_len += len(re_split[i])\n",
    "            num_exons += 1\n",
    "        else:\n",
    "            intron_len += len(re_split[i])\n",
    "            num_introns += 1\n",
    "    \n",
    "    total_len = exon_len + intron_len\n",
    "    return total_len, exon_len, intron_len, num_exons, num_introns\n",
    "\n",
    "#@display_iter()\n",
    "def display_seq_stats(seq_name, total_len, exon_len, intron_len, num_exons, num_introns):\n",
    "    for elem in list(locals().values()):\n",
    "        print(f' {elem:^10} | ', end = ' ')\n",
    "    print()"
   ]
  },
  {
   "cell_type": "code",
   "execution_count": null,
   "id": "1b12f22a",
   "metadata": {},
   "outputs": [],
   "source": []
  }
 ],
 "metadata": {
  "kernelspec": {
   "display_name": "Python 3 (ipykernel)",
   "language": "python",
   "name": "python3"
  },
  "language_info": {
   "codemirror_mode": {
    "name": "ipython",
    "version": 3
   },
   "file_extension": ".py",
   "mimetype": "text/x-python",
   "name": "python",
   "nbconvert_exporter": "python",
   "pygments_lexer": "ipython3",
   "version": "3.10.9"
  }
 },
 "nbformat": 4,
 "nbformat_minor": 5
}
